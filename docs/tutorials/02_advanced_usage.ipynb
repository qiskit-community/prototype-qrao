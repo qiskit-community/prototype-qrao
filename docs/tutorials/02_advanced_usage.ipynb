{
 "cells": [
  {
   "cell_type": "markdown",
   "id": "6aee114f",
   "metadata": {},
   "source": [
    "# Advanced usage of Quantum Random Access Optimization"
   ]
  },
  {
   "cell_type": "markdown",
   "id": "c619ad89",
   "metadata": {},
   "source": [
    "The [first tutorial](https://github.com/qiskit-community/prototype-qrao/blob/main/docs/tutorials/01_getting_started.ipynb) demonstrated basic usage of Quantum Random Access Optimization: how to generate a `QuadraticProgram` based on the max-cut problem, encode it into a Hamiltonian, and find a candidate solution using `QuantumRandomAccessOptimizer` with semideterministic rounding.  In this second tutorial, we will explore advanced usage of QRAO. In particular, we will use a different form of rounding, called \"magic rounding.\"  Unlike semideterministic rounding (which only involves classical post-processing), magic rounding executes on a quantum backend, which can be a simulator or actual quantum hardware.\n",
    "\n",
    "In the first part of this tutorial, you will learn how to solve a problem using the same technique as the first tutorial, but with magic rounding in place of semideterministic rounding.  In the second part, you will learn how to explicitly invoke the two primary steps behind solving the relaxed problem: running a minimum eigensolver to find an approximate ground state solution of the encoded (relaxed) Hamiltonian and performing rounding to map these ground state results back to a solution of the original problem.\n",
    "\n",
    "More conceptual information about the different rounding schemes is available in the [explanatory material](https://github.com/qiskit-community/prototype-qrao/blob/main/docs/background/README.md).\n",
    "\n",
    "First, we perform similar imports as in the first tutorial, with the addition of `MagicRounding`."
   ]
  },
  {
   "cell_type": "code",
   "execution_count": 1,
   "id": "cd3a745b",
   "metadata": {},
   "outputs": [],
   "source": [
    "from qiskit.utils import QuantumInstance\n",
    "from qiskit.algorithms.minimum_eigen_solvers import VQE\n",
    "from qiskit.circuit.library import RealAmplitudes\n",
    "from qiskit.algorithms.optimizers import SPSA\n",
    "from qiskit_aer import Aer\n",
    "\n",
    "from qrao import (\n",
    "    QuantumRandomAccessOptimizer,\n",
    "    QuantumRandomAccessEncoding,\n",
    "    SemideterministicRounding,\n",
    "    MagicRounding,\n",
    ")\n",
    "from qrao.utils import get_random_maxcut_qp"
   ]
  },
  {
   "cell_type": "markdown",
   "id": "76c08217",
   "metadata": {},
   "source": [
    "## Set up the problem and encode it into a quantum Hamiltonian\n",
    "\n",
    "Like in the previous tutorial, we begin by generating a `QuadraticProgram` from a random max-cut instance and encoding it into a relaxed Hamiltonian:"
   ]
  },
  {
   "cell_type": "code",
   "execution_count": 2,
   "id": "edeabb4e",
   "metadata": {},
   "outputs": [
    {
     "data": {
      "image/png": "[encoded data removed]",
      "text/plain": [
       "<Figure size 432x288 with 1 Axes>"
      ]
     },
     "metadata": {},
     "output_type": "display_data"
    }
   ],
   "source": [
    "# Generate a random QUBO in the form of a QuadraticProgram\n",
    "problem = get_random_maxcut_qp(degree=3, num_nodes=6, seed=1, draw=True)\n",
    "\n",
    "# Create and encode the problem using the (3,1,p)-QRAC\n",
    "encoding = QuantumRandomAccessEncoding(max_vars_per_qubit=3)\n",
    "encoding.encode(problem)"
   ]
  },
  {
   "cell_type": "markdown",
   "id": "96c683da",
   "metadata": {},
   "source": [
    "## Solve the problem using the `QuantumRandomAccessOptimizer` with magic rounding\n",
    "\n",
    "Magic rounding is a quantum technique that we use to map the ground state results of our encoded Hamiltonian back to a solution of the original problem. Unlike semideterministic rounding, this technique requires a quantum backend (either hardware or a simulator). This backend is passed to `MagicRounding` via a `QuantumInstance`, which also determines the total shots count (samples) magic rounding will use. This means we need to specify a quantum instance for both the optimizer and the rounding scheme steps. In principle, we could use the same or a different quantum instance for each of these steps. \n",
    "\n",
    "In practice, users may be inclined to set the number of magic rounding shots to be much higher than the number of shots used by the minimum eigensolver for the relaxed problem. This is because the minimum eigensolver is estimating expectation values but the magic rounding scheme will be returning the sample corresponding to the maximum function value found. When estimating an expectation value, increasing the number of shots will cause the estimate to converge to the true value, but when trying to find the largest possible function value we will often be trying to sample from the tail of a distribution of outcomes. Thus, until we observe the highest value outcome of our distribution, each additional shot increases the expected return value.\n",
    "\n",
    "In this tutorial, we use the `\"aer_simulator\"` both for solving the relaxed Hamiltonian and for performing magic rounding, albeit with a different `shots` count for each step. "
   ]
  },
  {
   "cell_type": "code",
   "execution_count": 3,
   "id": "3b9dc50c",
   "metadata": {},
   "outputs": [],
   "source": [
    "backend = Aer.get_backend(\"aer_simulator\")\n",
    "\n",
    "# Create a QuantumInstance for solving the relaxed Hamiltonian using VQE\n",
    "relaxed_qi = QuantumInstance(backend=backend, shots=500)\n",
    "\n",
    "# Create a QuantumInstance for magic rounding\n",
    "rounding_qi = QuantumInstance(backend=backend, shots=1000)\n",
    "\n",
    "# Set up the variational quantum eigensolver (ansatz width is determined by the encoding)\n",
    "vqe = VQE(\n",
    "    ansatz=RealAmplitudes(encoding.num_qubits),\n",
    "    optimizer=SPSA(maxiter=50),\n",
    "    quantum_instance=relaxed_qi,\n",
    ")\n",
    "\n",
    "# Use magic rounding\n",
    "rounding_scheme = MagicRounding(rounding_qi)\n",
    "\n",
    "# Construct the optimizer\n",
    "qrao = QuantumRandomAccessOptimizer(\n",
    "    encoding=encoding, min_eigen_solver=vqe, rounding_scheme=rounding_scheme\n",
    ")"
   ]
  },
  {
   "cell_type": "code",
   "execution_count": 4,
   "id": "9c2ed9f5",
   "metadata": {},
   "outputs": [
    {
     "name": "stdout",
     "output_type": "stream",
     "text": [
      "QRAO Result\n",
      "-----------\n",
      "relaxed function value: 17.232\n",
      "optimal function value: 14.0\n",
      "optimal value: [1 0 1 1 0 0]\n",
      "status: SUCCESS\n"
     ]
    }
   ],
   "source": [
    "# Solve the optimization problem\n",
    "results = qrao.solve()\n",
    "print(results)"
   ]
  },
  {
   "cell_type": "markdown",
   "id": "463914be",
   "metadata": {},
   "source": [
    "Because magic rounding involves nondeterministic measurements, the method collects a number of samples given by the `shots` count provided to the `rounding_qi` above.  These samples are then consolidated, such that duplicates are combined and factored into the empirical `probability` of the `SolutionSample`. Each sample has a corresponding function value (`fval`). From these consolidated samples, we select the one with the \"optimal\" (highest in the case of max-cut) function value as our solution."
   ]
  },
  {
   "cell_type": "code",
   "execution_count": 5,
   "id": "67f2c59f",
   "metadata": {},
   "outputs": [
    {
     "data": {
      "text/plain": [
       "64"
      ]
     },
     "execution_count": 5,
     "metadata": {},
     "output_type": "execute_result"
    }
   ],
   "source": [
    "# Calculate number of consolidated samples\n",
    "len(results.samples)"
   ]
  },
  {
   "cell_type": "markdown",
   "id": "65819613",
   "metadata": {},
   "source": [
    "Each `SolutionSample` can be inspected individually.<br>\n",
    "(_Note: \"status\" indicates that the optimizer executed without raising an exception and does not refer to optimality of a solution sample_)"
   ]
  },
  {
   "cell_type": "code",
   "execution_count": 6,
   "id": "53710b52",
   "metadata": {},
   "outputs": [
    {
     "data": {
      "text/plain": [
       "SolutionSample(x=array([1, 0, 1, 0, 0, 0]), fval=12.0, probability=0.026, status=<OptimizationResultStatus.SUCCESS: 0>)"
      ]
     },
     "execution_count": 6,
     "metadata": {},
     "output_type": "execute_result"
    }
   ],
   "source": [
    "# The first solution sample (which is not optimal in this case since the optimal\n",
    "# function value is 14.0)\n",
    "results.samples[0]"
   ]
  },
  {
   "cell_type": "markdown",
   "id": "511c4518",
   "metadata": {},
   "source": [
    "Information about the optimal value is available directly in the `results` object:"
   ]
  },
  {
   "cell_type": "code",
   "execution_count": 7,
   "id": "39e86bcd",
   "metadata": {},
   "outputs": [
    {
     "name": "stdout",
     "output_type": "stream",
     "text": [
      "The optimal function value is 14.0 at [1 0 1 1 0 0].\n"
     ]
    }
   ],
   "source": [
    "print(f\"The optimal function value is {results.fval} at {results.x}.\")"
   ]
  },
  {
   "cell_type": "markdown",
   "id": "876ff17d",
   "metadata": {},
   "source": [
    "## Alternative: Solve the problem in two explicit steps\n",
    "\n",
    "In the first part of this tutorial, we called the `qrao.solve()` method, which solves the encoded problem (ground state of the relaxed Hamiltonian) and performs rounding (to map the ground state results back to a solution of the original problem). It is also possible to explicitly break down the calculation into these two component steps. This may be useful, for example, if you would like to compare the solutions obtained across multiple rounding schemes performed on a candidate ground state.\n",
    "\n",
    "In this section, we will learn how to perform each of these steps explicitly.\n",
    "\n",
    "### 1. Manually solve the relaxed problem\n",
    "\n",
    "First, call the method `qrao.solve_relaxed()` to solve the relaxed problem directly. This relaxed problem was already given to the `QuantumRandomAccessOptimizer` object at construction via the `encoding`. The `solve_relaxed` method returns two objects:\n",
    "- `MinimumEigensolverResult`: result of the VQE run (explanation of entries in this dictionary is [documented in Qiskit Terra](https://qiskit.org/documentation/stubs/qiskit.algorithms.MinimumEigensolverResult.html))\n",
    "- `RoundingContext`: information about the encoding and the solution of the relaxed problem in a form that is ready for consumption by the rounding schemes"
   ]
  },
  {
   "cell_type": "code",
   "execution_count": 8,
   "id": "f44c43cf",
   "metadata": {},
   "outputs": [],
   "source": [
    "# Solve the relaxed problem manually\n",
    "relaxed_results, rounding_context = qrao.solve_relaxed()"
   ]
  },
  {
   "cell_type": "code",
   "execution_count": 9,
   "id": "04304d36",
   "metadata": {
    "scrolled": false
   },
   "outputs": [
    {
     "name": "stdout",
     "output_type": "stream",
     "text": [
      "{   'aux_operator_eigenvalues': [   (0.728, 0.03065994129152892),\n",
      "                                    (-0.7479999999999998, 0.02968150939558162),\n",
      "                                    (   -0.023999999999999952,\n",
      "                                        0.04470847794322683),\n",
      "                                    (0.932, 0.016209626769299778),\n",
      "                                    (   -0.008000000000000007,\n",
      "                                        0.04471992844359212),\n",
      "                                    (   -0.023999999999999962,\n",
      "                                        0.04470847794322683)],\n",
      "    'cost_function_evals': 100,\n",
      "    'eigenstate': {   '000': 0.2683281572999748,\n",
      "                      '001': 0.07745966692414834,\n",
      "                      '010': 0.5157518783291051,\n",
      "                      '011': 0.363318042491699,\n",
      "                      '100': 0.39749213828703583,\n",
      "                      '101': 0.4919349550499537,\n",
      "                      '110': 0.20976176963403032,\n",
      "                      '111': 0.282842712474619},\n",
      "    'eigenvalue': (-8.111999999999998+0j),\n",
      "    'optimal_parameters': {   ParameterVectorElement(θ[0]): -0.08803586624602783,\n",
      "                              ParameterVectorElement(θ[1]): 0.31554751313653506,\n",
      "                              ParameterVectorElement(θ[2]): -0.042710987614498715,\n",
      "                              ParameterVectorElement(θ[6]): -0.0627665484194903,\n",
      "                              ParameterVectorElement(θ[7]): -2.814660399650115,\n",
      "                              ParameterVectorElement(θ[8]): 0.7453737756177289,\n",
      "                              ParameterVectorElement(θ[9]): 1.517983482322737,\n",
      "                              ParameterVectorElement(θ[10]): -0.25611242109660903,\n",
      "                              ParameterVectorElement(θ[11]): 1.9368731149845808,\n",
      "                              ParameterVectorElement(θ[4]): 1.8875535213444294,\n",
      "                              ParameterVectorElement(θ[5]): -2.6121607043530037,\n",
      "                              ParameterVectorElement(θ[3]): -0.3546423863946907},\n",
      "    'optimal_point': array([-0.08803587,  0.31554751, -0.04271099, -0.35464239,  1.88755352,\n",
      "       -2.6121607 , -0.06276655, -2.8146604 ,  0.74537378,  1.51798348,\n",
      "       -0.25611242,  1.93687311]),\n",
      "    'optimal_value': -8.111999999999998,\n",
      "    'optimizer_evals': None,\n",
      "    'optimizer_time': 1.997147798538208,\n",
      "    'time_taken': 2.2731809616088867}\n"
     ]
    }
   ],
   "source": [
    "# Print the MinimumEigensolverResult object, from Terra\n",
    "print(relaxed_results)"
   ]
  },
  {
   "cell_type": "markdown",
   "id": "4391511a",
   "metadata": {},
   "source": [
    "### 2. Manually round the relaxed problem results\n",
    "\n",
    "Second, perform rounding on these relaxed problem results. We do this by calling the `round()` method on an instantiation of the desired rounding scheme and passing it the `RoundingContext`. Here, we provide an example for both rounding schemes, given the relaxed solution obtained above.\n",
    "\n",
    "_Note: in the future, we will expose functionality to easily translate the results obtained by manually rounding back to the solution of original problem. Currently, this happens automatically when calling `QuantumRandomAccessOptimizer.solve(problem)`._"
   ]
  },
  {
   "cell_type": "code",
   "execution_count": 10,
   "id": "96d64d85",
   "metadata": {},
   "outputs": [
    {
     "name": "stdout",
     "output_type": "stream",
     "text": [
      "Collected 64 samples in 2.1042749881744385 seconds.\n"
     ]
    }
   ],
   "source": [
    "mr_results = MagicRounding(rounding_qi).round(rounding_context)\n",
    "print(\n",
    "    f\"Collected {len(mr_results.samples)} samples in {mr_results.time_taken} seconds.\"\n",
    ")"
   ]
  },
  {
   "cell_type": "code",
   "execution_count": 11,
   "id": "83917f3d",
   "metadata": {},
   "outputs": [
    {
     "name": "stdout",
     "output_type": "stream",
     "text": [
      "Performed semideterministic rounding (1 sample).\n",
      "Result: RoundingSolutionSample(x=array([0, 1, 1, 0, 1, 1]), probability=1.0)\n"
     ]
    }
   ],
   "source": [
    "sdr_results = SemideterministicRounding().round(rounding_context)\n",
    "print(f\"Performed semideterministic rounding ({len(sdr_results.samples)} sample).\")\n",
    "print(f\"Result: {sdr_results.samples[0]}\")"
   ]
  },
  {
   "cell_type": "code",
   "execution_count": 12,
   "id": "c7169017",
   "metadata": {},
   "outputs": [
    {
     "data": {
      "text/html": [
       "<h3>Version Information</h3><table><tr><th>Qiskit Software</th><th>Version</th></tr><tr><td><code>qiskit-terra</code></td><td>0.20.0</td></tr><tr><td><code>qiskit-aer</code></td><td>0.10.4</td></tr><tr><td><code>qiskit-ibmq-provider</code></td><td>0.19.0</td></tr><tr><td><code>qiskit-optimization</code></td><td>0.3.2</td></tr><tr><th>System information</th></tr><tr><td>Python version</td><td>3.8.5</td></tr><tr><td>Python compiler</td><td>Clang 10.0.0 </td></tr><tr><td>Python build</td><td>default, Sep  4 2020 02:22:02</td></tr><tr><td>OS</td><td>Darwin</td></tr><tr><td>CPUs</td><td>4</td></tr><tr><td>Memory (Gb)</td><td>16.0</td></tr><tr><td colspan='2'>Mon Apr 18 13:43:25 2022 MDT</td></tr></table>"
      ],
      "text/plain": [
       "<IPython.core.display.HTML object>"
      ]
     },
     "metadata": {},
     "output_type": "display_data"
    },
    {
     "data": {
      "text/html": [
       "<div style='width: 100%; background-color:#d5d9e0;padding-left: 10px; padding-bottom: 10px; padding-right: 10px; padding-top: 5px'><h3>This code is a part of Qiskit</h3><p>&copy; Copyright IBM 2017, 2022.</p><p>This code is licensed under the Apache License, Version 2.0. You may<br>obtain a copy of this license in the LICENSE.txt file in the root directory<br> of this source tree or at http://www.apache.org/licenses/LICENSE-2.0.<p>Any modifications or derivative works of this code must retain this<br>copyright notice, and modified files need to carry a notice indicating<br>that they have been altered from the originals.</p></div>"
      ],
      "text/plain": [
       "<IPython.core.display.HTML object>"
      ]
     },
     "metadata": {},
     "output_type": "display_data"
    }
   ],
   "source": [
    "import qiskit.tools.jupyter  # pylint: disable=unused-import,wrong-import-order\n",
    "\n",
    "%qiskit_version_table\n",
    "%qiskit_copyright"
   ]
  }
 ],
 "metadata": {
  "kernelspec": {
   "display_name": "Python 3 (ipykernel)",
   "language": "python",
   "name": "python3"
  },
  "language_info": {
   "codemirror_mode": {
    "name": "ipython",
    "version": 3
   },
   "file_extension": ".py",
   "mimetype": "text/x-python",
   "name": "python",
   "nbconvert_exporter": "python",
   "pygments_lexer": "ipython3",
   "version": "3.8.5"
  }
 },
 "nbformat": 4,
 "nbformat_minor": 5
}
