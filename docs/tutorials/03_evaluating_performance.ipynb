{
 "cells": [
  {
   "cell_type": "markdown",
   "metadata": {},
   "source": [
    "# Evaluating Performance\n",
    "\n",
    "In this notebook, we'll evaluate the performance of QRAO by determining how closely it approximates the exact solution to MaxCut for 100 random 3-regular graphs. We'll also compare the performance of QRAO used with two different rounding schemes. In the process, we'll reproduce the main results of [the paper](https://arxiv.org/pdf/2111.03167.pdf) (i.e. Fig. 1)."
   ]
  },
  {
   "cell_type": "code",
   "execution_count": 16,
   "metadata": {},
   "outputs": [],
   "source": [
    "%matplotlib inline\n",
    "\n",
    "import numpy as np\n",
    "import matplotlib.pyplot as plt\n",
    "from tqdm.notebook import tqdm\n",
    "\n",
    "from qiskit import Aer\n",
    "from qiskit.utils import QuantumInstance\n",
    "\n",
    "from qiskit.algorithms.minimum_eigen_solvers import NumPyMinimumEigensolver\n",
    "from qiskit_optimization.algorithms import CplexOptimizer\n",
    "\n",
    "from qrao import (\n",
    "    QuantumRandomAccessEncoding,\n",
    "    QuantumRandomAccessOptimizer,\n",
    "    SemideterministicRounding,\n",
    "    MagicRounding,\n",
    ")\n",
    "\n",
    "from qrao.utils import get_random_maxcut_qp"
   ]
  },
  {
   "cell_type": "markdown",
   "metadata": {},
   "source": [
    "Let's start with an example: evaluating the performance of QRAO with Pauli rounding at finding the maximal cut of a random 3-regular graph with 8 nodes."
   ]
  },
  {
   "cell_type": "markdown",
   "metadata": {},
   "source": [
    "First, we construct a random 3-regular graph with 8 nodes shown below. We define `problem` as the `QuadraticProgram` corresponding to solving MaxCut for this graph."
   ]
  },
  {
   "cell_type": "code",
   "execution_count": 17,
   "metadata": {},
   "outputs": [
    {
     "data": {
      "image/png": "[encoded data removed]",
      "text/plain": [
       "<Figure size 432x288 with 1 Axes>"
      ]
     },
     "metadata": {},
     "output_type": "display_data"
    }
   ],
   "source": [
    "example_problem = get_random_maxcut_qp(degree=3, num_nodes=8, draw=True)"
   ]
  },
  {
   "cell_type": "markdown",
   "metadata": {},
   "source": [
    "We can get an approximation of the maximal cut of this graph using QRAO by encoding `problem` with a quantum random access code; constructing a `QuantumRandomAccessOptimizer` instance with our encoding, a minimum eigensolver, and the Pauli rounding scheme; solving our `problem` with the optimizer instance; and extracting the optimal function value from the `fval` property."
   ]
  },
  {
   "cell_type": "code",
   "execution_count": 18,
   "metadata": {},
   "outputs": [
    {
     "data": {
      "text/plain": [
       "12.0"
      ]
     },
     "execution_count": 18,
     "metadata": {},
     "output_type": "execute_result"
    }
   ],
   "source": [
    "example_encoding = QuantumRandomAccessEncoding(max_vars_per_qubit=3)\n",
    "example_encoding.encode(example_problem)\n",
    "example_qrao = QuantumRandomAccessOptimizer(\n",
    "    encoding=example_encoding,\n",
    "    min_eigen_solver=NumPyMinimumEigensolver(),\n",
    "    rounding_scheme=SemideterministicRounding(),\n",
    ")\n",
    "example_found_maxcut = example_qrao.solve(example_problem).fval\n",
    "example_found_maxcut"
   ]
  },
  {
   "cell_type": "markdown",
   "metadata": {},
   "source": [
    "Next, we can compute the exact maximal cut of our graph using CPLEX by constructing a `CplexOptimizer` instance, solving `problem` with the optimizer instance, and extracting the optimal function value from the `fval` property."
   ]
  },
  {
   "cell_type": "code",
   "execution_count": 19,
   "metadata": {},
   "outputs": [
    {
     "data": {
      "text/plain": [
       "20.0"
      ]
     },
     "execution_count": 19,
     "metadata": {},
     "output_type": "execute_result"
    }
   ],
   "source": [
    "example_exact_optimizer = CplexOptimizer()\n",
    "example_exact_maxcut = example_exact_optimizer.solve(example_problem).fval\n",
    "example_exact_maxcut"
   ]
  },
  {
   "cell_type": "markdown",
   "metadata": {},
   "source": [
    "Finally, we can evaluate the performance of QRAO by determining how closely it approximated the exact maximal cut of our graph. This can be measured using the **approximation ratio**, computed by dividing QRAO's approximate maximal cut by the exact maximal cut. If `approximation_ratio` is `1.0`, then QRAO found the exact maximal cut of the graph; more generally, the closer `approximation_ratio` is to `1.0`, the better QRAO approximated the maximal cut of the graph."
   ]
  },
  {
   "cell_type": "code",
   "execution_count": 20,
   "metadata": {},
   "outputs": [
    {
     "data": {
      "text/plain": [
       "0.6"
      ]
     },
     "execution_count": 20,
     "metadata": {},
     "output_type": "execute_result"
    }
   ],
   "source": [
    "example_approximation_ratio = example_found_maxcut / example_exact_maxcut\n",
    "example_approximation_ratio"
   ]
  },
  {
   "cell_type": "markdown",
   "metadata": {},
   "source": [
    "Now that we know how to evaluate the performance of QRAO for a specific problem, we can generalize by defining a function that can compute the approximation ratio for solving MaxCut for a random 3-regular `num_nodes`-node graph using QRAO with `rounding_scheme` rounding."
   ]
  },
  {
   "cell_type": "code",
   "execution_count": 21,
   "metadata": {},
   "outputs": [],
   "source": [
    "exact_optimizer = CplexOptimizer()\n",
    "min_eigen_solver = NumPyMinimumEigensolver()"
   ]
  },
  {
   "cell_type": "code",
   "execution_count": 22,
   "metadata": {},
   "outputs": [],
   "source": [
    "def compute_approximation_ratio(num_nodes, rounding_scheme, degree=3):\n",
    "    problem = get_random_maxcut_qp(degree=degree, num_nodes=num_nodes)\n",
    "\n",
    "    exact_fval = exact_optimizer.solve(problem).fval\n",
    "\n",
    "    encoding = QuantumRandomAccessEncoding(max_vars_per_qubit=3)\n",
    "    encoding.encode(problem)\n",
    "    qrao = QuantumRandomAccessOptimizer(\n",
    "        encoding=encoding,\n",
    "        min_eigen_solver=min_eigen_solver,\n",
    "        rounding_scheme=rounding_scheme,\n",
    "    )\n",
    "    approximate_fval = qrao.solve(problem).fval\n",
    "\n",
    "    approximation_ratio = approximate_fval / exact_fval\n",
    "\n",
    "    return approximation_ratio"
   ]
  },
  {
   "cell_type": "markdown",
   "metadata": {},
   "source": [
    "Finally, we are equipped to evaluate the performance of QRAO by determining how closely it approximates the exact solution to MaxCut for 100 random 3-regular graphs.\n",
    "\n",
    "There are a couple performance questions we want to investigate:\n",
    "\n",
    "1. How does the **rounding scheme** affect the performance? Does one rounding scheme outperform another? How does this change for larger graphs?\n",
    "2. How does the **number of nodes in the graph** affect the performance? Is the performance better/worse for larger graphs? How does this change between rounding schemes?\n",
    "\n",
    "We can tackle these questions by comparing the distribution of approximation ratio for 100 random 3-regular graphs with 8, 16, 24, 32, 36, and 40 nodes using QRAO with Pauli rounding and magic rounding."
   ]
  },
  {
   "cell_type": "code",
   "execution_count": 23,
   "metadata": {},
   "outputs": [],
   "source": [
    "NUM_NODES_LIST = [8, 16, 24, 32, 36, 40]\n",
    "TRIALS = 100"
   ]
  },
  {
   "cell_type": "code",
   "execution_count": 24,
   "metadata": {},
   "outputs": [],
   "source": [
    "pauli_rounding = SemideterministicRounding()\n",
    "\n",
    "backend = Aer.get_backend(\"aer_simulator\")\n",
    "rounding_qi = QuantumInstance(backend=backend, shots=1)\n",
    "\n",
    "magic_rounding = MagicRounding(rounding_qi)"
   ]
  },
  {
   "cell_type": "code",
   "execution_count": 25,
   "metadata": {},
   "outputs": [
    {
     "data": {
      "application/vnd.jupyter.widget-view+json": {
       "model_id": "fb9a4d79d2824334b161578d4e6282c6",
       "version_major": 2,
       "version_minor": 0
      },
      "text/plain": [
       "  0%|          | 0/100 [00:00<?, ?it/s]"
      ]
     },
     "metadata": {},
     "output_type": "display_data"
    },
    {
     "data": {
      "application/vnd.jupyter.widget-view+json": {
       "model_id": "351dc30b662b427eae661f0c2a5dac1d",
       "version_major": 2,
       "version_minor": 0
      },
      "text/plain": [
       "  0%|          | 0/100 [00:00<?, ?it/s]"
      ]
     },
     "metadata": {},
     "output_type": "display_data"
    },
    {
     "data": {
      "application/vnd.jupyter.widget-view+json": {
       "model_id": "c06de6ba708b42c2be0ba6efaa69698a",
       "version_major": 2,
       "version_minor": 0
      },
      "text/plain": [
       "  0%|          | 0/100 [00:00<?, ?it/s]"
      ]
     },
     "metadata": {},
     "output_type": "display_data"
    },
    {
     "data": {
      "application/vnd.jupyter.widget-view+json": {
       "model_id": "3ad97c69408f4ebc8966699bfeaf068b",
       "version_major": 2,
       "version_minor": 0
      },
      "text/plain": [
       "  0%|          | 0/100 [00:00<?, ?it/s]"
      ]
     },
     "metadata": {},
     "output_type": "display_data"
    },
    {
     "data": {
      "application/vnd.jupyter.widget-view+json": {
       "model_id": "f2e31a78cc6e4e0f88f5e34fd9179c2d",
       "version_major": 2,
       "version_minor": 0
      },
      "text/plain": [
       "  0%|          | 0/100 [00:00<?, ?it/s]"
      ]
     },
     "metadata": {},
     "output_type": "display_data"
    },
    {
     "data": {
      "application/vnd.jupyter.widget-view+json": {
       "model_id": "6571a6063f3d4952ad5a750c6eedf424",
       "version_major": 2,
       "version_minor": 0
      },
      "text/plain": [
       "  0%|          | 0/100 [00:00<?, ?it/s]"
      ]
     },
     "metadata": {},
     "output_type": "display_data"
    }
   ],
   "source": [
    "pauli_rounding_approximation_ratios = {\n",
    "    num_nodes: [\n",
    "        compute_approximation_ratio(num_nodes, pauli_rounding)\n",
    "        for _ in tqdm(range(TRIALS))\n",
    "    ]\n",
    "    for num_nodes in NUM_NODES_LIST\n",
    "}"
   ]
  },
  {
   "cell_type": "markdown",
   "metadata": {},
   "source": [
    "Here we can see the approximation ratio distribution for using **QRAO with Pauli rounding** to solve 100 random 3-regular graph MaxCut instances for different graph sizes."
   ]
  },
  {
   "cell_type": "code",
   "execution_count": 27,
   "metadata": {},
   "outputs": [
    {
     "data": {
      "image/png": "[encoded data removed]",
      "text/plain": [
       "<Figure size 720x720 with 6 Axes>"
      ]
     },
     "metadata": {
      "needs_background": "light"
     },
     "output_type": "display_data"
    }
   ],
   "source": [
    "fig, axes = plt.subplots(len(NUM_NODES_LIST), sharex=True, sharey=True)\n",
    "\n",
    "fig.set_size_inches(10, 10)\n",
    "\n",
    "for i, n in enumerate(NUM_NODES_LIST):\n",
    "    axes[i].hist(\n",
    "        pauli_rounding_approximation_ratios[n],\n",
    "        weights=np.zeros_like(pauli_rounding_approximation_ratios[n]) + 1.0 / TRIALS,\n",
    "        bins=50,\n",
    "    )\n",
    "    axes[i].set_ylabel(f\"{n} nodes\")\n",
    "\n",
    "fig.suptitle(\"QRAO (Pauli Rounding) MaxCut Performance\")\n",
    "plt.xlabel(\"Approximation Ratio\")\n",
    "\n",
    "plt.show()"
   ]
  },
  {
   "cell_type": "code",
   "execution_count": 12,
   "metadata": {},
   "outputs": [
    {
     "data": {
      "application/vnd.jupyter.widget-view+json": {
       "model_id": "bf221b56aca547b1afa8287315c7f85b",
       "version_major": 2,
       "version_minor": 0
      },
      "text/plain": [
       "  0%|          | 0/100 [00:00<?, ?it/s]"
      ]
     },
     "metadata": {},
     "output_type": "display_data"
    },
    {
     "data": {
      "application/vnd.jupyter.widget-view+json": {
       "model_id": "58f8c1989057442288aab1342e5a10b0",
       "version_major": 2,
       "version_minor": 0
      },
      "text/plain": [
       "  0%|          | 0/100 [00:00<?, ?it/s]"
      ]
     },
     "metadata": {},
     "output_type": "display_data"
    },
    {
     "data": {
      "application/vnd.jupyter.widget-view+json": {
       "model_id": "e9c43406ae874fd487b78f61df73e225",
       "version_major": 2,
       "version_minor": 0
      },
      "text/plain": [
       "  0%|          | 0/100 [00:00<?, ?it/s]"
      ]
     },
     "metadata": {},
     "output_type": "display_data"
    },
    {
     "data": {
      "application/vnd.jupyter.widget-view+json": {
       "model_id": "eb9dc76ff66a4e87bf2f8cd59789559e",
       "version_major": 2,
       "version_minor": 0
      },
      "text/plain": [
       "  0%|          | 0/100 [00:00<?, ?it/s]"
      ]
     },
     "metadata": {},
     "output_type": "display_data"
    },
    {
     "data": {
      "application/vnd.jupyter.widget-view+json": {
       "model_id": "107b2b8468544be89535b3d80f8916b7",
       "version_major": 2,
       "version_minor": 0
      },
      "text/plain": [
       "  0%|          | 0/100 [00:00<?, ?it/s]"
      ]
     },
     "metadata": {},
     "output_type": "display_data"
    },
    {
     "data": {
      "application/vnd.jupyter.widget-view+json": {
       "model_id": "bb4cdcc7845a43ac886c3f4d72ba3652",
       "version_major": 2,
       "version_minor": 0
      },
      "text/plain": [
       "  0%|          | 0/100 [00:00<?, ?it/s]"
      ]
     },
     "metadata": {},
     "output_type": "display_data"
    }
   ],
   "source": [
    "magic_rounding_approximation_ratios = {\n",
    "    num_nodes: [\n",
    "        compute_approximation_ratio(num_nodes, magic_rounding)\n",
    "        for _ in tqdm(range(TRIALS))\n",
    "    ]\n",
    "    for num_nodes in NUM_NODES_LIST\n",
    "}"
   ]
  },
  {
   "cell_type": "markdown",
   "metadata": {},
   "source": [
    "And here we can see the approximation ratio distribution for using **QRAO with magic rounding** to solve 100 random 3-regular graph MaxCut instances for different graph sizes."
   ]
  },
  {
   "cell_type": "code",
   "execution_count": 23,
   "metadata": {},
   "outputs": [
    {
     "data": {
      "image/png": "[encoded data removed]",
      "text/plain": [
       "<Figure size 720x720 with 6 Axes>"
      ]
     },
     "metadata": {
      "needs_background": "light"
     },
     "output_type": "display_data"
    }
   ],
   "source": [
    "fig, axes = plt.subplots(len(NUM_NODES_LIST), sharex=True, sharey=True)\n",
    "\n",
    "fig.set_size_inches(10, 10)\n",
    "\n",
    "for i, n in enumerate(NUM_NODES_LIST):\n",
    "    axes[i].hist(\n",
    "        magic_rounding_approximation_ratios[n],\n",
    "        weights=np.zeros_like(magic_rounding_approximation_ratios[n]) + 1.0 / TRIALS,\n",
    "        bins=50,\n",
    "    )\n",
    "    axes[i].set_ylabel(f\"{n} nodes\")\n",
    "\n",
    "fig.suptitle(\"QRAO (Magic Rounding) MaxCut Performance\")\n",
    "plt.xlabel(\"Approximation Ratio\")\n",
    "\n",
    "plt.show()"
   ]
  },
  {
   "cell_type": "markdown",
   "metadata": {},
   "source": [
    "These two graphs constitute the main results of [the paper](https://arxiv.org/pdf/2111.03167.pdf) (i.e. Fig. 1)."
   ]
  },
  {
   "cell_type": "markdown",
   "metadata": {},
   "source": [
    "To summarize the information in the two graphs, we can additionally plot the median approximation ratio for Pauli rounding and magic rounding as a function of the number of nodes in the graph. This gives us a sense both of how well QRAO with Pauli rounding and with magic rounding each solve MaxCut overall, and how their performances change as the graph grows."
   ]
  },
  {
   "cell_type": "code",
   "execution_count": 24,
   "metadata": {},
   "outputs": [
    {
     "data": {
      "image/png": "[encoded data removed]",
      "text/plain": [
       "<Figure size 432x288 with 1 Axes>"
      ]
     },
     "metadata": {
      "needs_background": "light"
     },
     "output_type": "display_data"
    }
   ],
   "source": [
    "plt.plot(\n",
    "    NUM_NODES_LIST,\n",
    "    [\n",
    "        np.median(pauli_rounding_approximation_ratios[num_nodes])\n",
    "        for num_nodes in NUM_NODES_LIST\n",
    "    ],\n",
    "    label=\"Pauli Rounding\",\n",
    ")\n",
    "plt.plot(\n",
    "    NUM_NODES_LIST,\n",
    "    [\n",
    "        np.median(magic_rounding_approximation_ratios[num_nodes])\n",
    "        for num_nodes in NUM_NODES_LIST\n",
    "    ],\n",
    "    label=\"Magic Rounding\",\n",
    ")\n",
    "plt.title(\"QRAO MaxCut Performance\")\n",
    "plt.xlabel(\"Number of Nodes\")\n",
    "plt.ylabel(\"Median Approximation Ratio\")\n",
    "plt.legend()\n",
    "plt.show()"
   ]
  }
 ],
 "metadata": {
  "interpreter": {
   "hash": "091032f753fd8b52e996fc03d6323ff523db19d64607db6acd8c3783811ef968"
  },
  "kernelspec": {
   "display_name": "Python 3.9.12 ('prototype-qrao')",
   "language": "python",
   "name": "python3"
  },
  "language_info": {
   "codemirror_mode": {
    "name": "ipython",
    "version": 3
   },
   "file_extension": ".py",
   "mimetype": "text/x-python",
   "name": "python",
   "nbconvert_exporter": "python",
   "pygments_lexer": "ipython3",
   "version": "3.9.12"
  },
  "orig_nbformat": 4
 },
 "nbformat": 4,
 "nbformat_minor": 2
}
